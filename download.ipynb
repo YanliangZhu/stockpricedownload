{
 "cells": [
  {
   "cell_type": "code",
   "execution_count": 1,
   "id": "ef9694a5",
   "metadata": {},
   "outputs": [],
   "source": [
    "#polygon.io API Key\n",
    "import config\n",
    "api_key = config.api_key"
   ]
  },
  {
   "cell_type": "code",
   "execution_count": 20,
   "id": "e95f631d",
   "metadata": {},
   "outputs": [],
   "source": [
    "#lib\n",
    "import pandas as pd\n",
    "import requests as req\n",
    "import datetime\n",
    "from pandas_market_calendars import get_calendar"
   ]
  },
  {
   "cell_type": "code",
   "execution_count": null,
   "id": "a11c6df9",
   "metadata": {},
   "outputs": [],
   "source": [
    "#ISSUE:\n",
    "#1 lengh limit - only 2 years data\n",
    "#2 call limit - only 5 calls / min\n",
    "#3 query limit - Max 50000 data points\n",
    "    #50000 minute = 0.9493 years\n",
    "    #50000 hours = 5.7077 years\n",
    "    #50000 hours = 136.9863 years\n",
    "    \n",
    "\n",
    "#symbol: stock symbol\n",
    "#date_A: from date\n",
    "#date_B: to date\n",
    "#timespan: minute, hour, day, week, month, quarter, year"
   ]
  },
  {
   "cell_type": "code",
   "execution_count": 135,
   "id": "0e84ce7d",
   "metadata": {},
   "outputs": [],
   "source": [
    "#test using VOO\n",
    "day1 = '2010-01-01'\n",
    "day2 = datetime.date.today().strftime('%Y-%m-%d')\n",
    "timespan = 'day'\n",
    "symbol = 'VOO'"
   ]
  },
  {
   "cell_type": "code",
   "execution_count": 132,
   "id": "d5067792",
   "metadata": {},
   "outputs": [],
   "source": [
    "def api_call(symbol, date_A, date_B, timespan, api_key):\n",
    "    multiplier = 1\n",
    "    adjusted = True     #default\n",
    "    sort = 'asc'        #ascending order (oldest at top)\n",
    "    limit = 50000       #default 5000, must be <50000\n",
    "    #request url\n",
    "    url = f'https://api.polygon.io/v2/aggs/ticker/{symbol}/range/1/{timespan}/{date_A}/{date_B}?adjusted={adjusted}&sort={sort}&limit={limit}&apiKey={api_key}'\n",
    "    #requesting\n",
    "    data = req.get(url).json()\n",
    "    return data"
   ]
  },
  {
   "cell_type": "code",
   "execution_count": 133,
   "id": "71546092",
   "metadata": {},
   "outputs": [],
   "source": [
    "def json_to_df(data):\n",
    "    results = data['results']\n",
    "    df = pd.DataFrame(columns=['time', 'open', 'high', 'low', 'close', 'volume'])\n",
    "    for result in results:\n",
    "        df = df.append({\n",
    "            'time': pd.to_datetime(result['t'], unit='ms'),\n",
    "            'open': result['o'],\n",
    "            'high': result['h'],\n",
    "            'low': result['l'],\n",
    "            'close': result['c'],\n",
    "            'volume': result['v']\n",
    "        }, ignore_index=True)\n",
    "    return df"
   ]
  },
  {
   "cell_type": "code",
   "execution_count": 123,
   "id": "c8874d91",
   "metadata": {},
   "outputs": [],
   "source": [
    "#limit checker\n",
    "def overlimit(day_A, day_B, StockExchange, timespan, limit = 50000):\n",
    "    \n",
    "    calendar = get_calendar(StockExchange).schedule(day_A, day_B)\n",
    "    \n",
    "    #total trading day\n",
    "    trading_days = len(calendar)\n",
    "    \n",
    "    #total trading hours and minutes\n",
    "        #stock exchanges with lunch break\n",
    "    if 'break_start' in calendar.columns.values.tolist():\n",
    "        calendar['hours'] = ((calendar.market_close - calendar.market_open)-(calendar.break_end - calendar.break_start)) / pd.Timedelta(hours=1) \n",
    "        calendar['minutes'] = ((calendar.market_close - calendar.market_open)-(calendar.break_end - calendar.break_start)) / pd.Timedelta(minutes=1) \n",
    "        #stock exchanges without lunch break\n",
    "    else:\n",
    "        calendar['hours'] = (calendar.market_close - calendar.market_open) / pd.Timedelta(hours=1)\n",
    "        calendar['minutes'] = (calendar.market_close - calendar.market_open) / pd.Timedelta(minutes=1) \n",
    "    trading_hours = calendar['hours'].sum()\n",
    "    trading_minutes = calendar['minutes'].sum()\n",
    "    \n",
    "    #counts\n",
    "    if timespan == 'day':\n",
    "        counts = trading_days\n",
    "    if timespan == 'hour':\n",
    "        counts  = trading_hours\n",
    "    elif timespan == 'minute':\n",
    "        counts = trading_minutes\n",
    "    else:\n",
    "        counts = 0\n",
    "    \n",
    "    #check\n",
    "    if counts > limit:\n",
    "        check = True\n",
    "    else:\n",
    "        check = False\n",
    "        \n",
    "    return check\n",
    "\n",
    "#return True if over limit"
   ]
  },
  {
   "cell_type": "code",
   "execution_count": null,
   "id": "403e9b0e",
   "metadata": {},
   "outputs": [],
   "source": [
    "#task assigner"
   ]
  },
  {
   "cell_type": "code",
   "execution_count": null,
   "id": "6c9dfabe",
   "metadata": {},
   "outputs": [],
   "source": [
    "#data intergration"
   ]
  },
  {
   "cell_type": "code",
   "execution_count": null,
   "id": "30b625ac",
   "metadata": {},
   "outputs": [],
   "source": []
  },
  {
   "cell_type": "code",
   "execution_count": null,
   "id": "5d6af3db",
   "metadata": {},
   "outputs": [],
   "source": []
  },
  {
   "cell_type": "code",
   "execution_count": null,
   "id": "cb5dba1c",
   "metadata": {},
   "outputs": [],
   "source": []
  },
  {
   "cell_type": "code",
   "execution_count": null,
   "id": "934aa8a5",
   "metadata": {},
   "outputs": [],
   "source": []
  },
  {
   "cell_type": "code",
   "execution_count": null,
   "id": "c5ee2f22",
   "metadata": {},
   "outputs": [],
   "source": []
  },
  {
   "cell_type": "code",
   "execution_count": null,
   "id": "e45ba8df",
   "metadata": {},
   "outputs": [],
   "source": []
  },
  {
   "cell_type": "code",
   "execution_count": null,
   "id": "92230dc9",
   "metadata": {},
   "outputs": [],
   "source": []
  },
  {
   "cell_type": "code",
   "execution_count": null,
   "id": "12121241",
   "metadata": {},
   "outputs": [],
   "source": []
  },
  {
   "cell_type": "code",
   "execution_count": null,
   "id": "798e8fca",
   "metadata": {},
   "outputs": [],
   "source": []
  },
  {
   "cell_type": "code",
   "execution_count": null,
   "id": "17d87ad4",
   "metadata": {},
   "outputs": [],
   "source": []
  },
  {
   "cell_type": "code",
   "execution_count": null,
   "id": "3fa5d471",
   "metadata": {},
   "outputs": [],
   "source": []
  },
  {
   "cell_type": "code",
   "execution_count": null,
   "id": "c09e2259",
   "metadata": {},
   "outputs": [],
   "source": []
  },
  {
   "cell_type": "code",
   "execution_count": null,
   "id": "5a57d738",
   "metadata": {},
   "outputs": [],
   "source": []
  },
  {
   "cell_type": "code",
   "execution_count": null,
   "id": "c4c7716d",
   "metadata": {},
   "outputs": [],
   "source": []
  },
  {
   "cell_type": "code",
   "execution_count": null,
   "id": "c4f9166b",
   "metadata": {},
   "outputs": [],
   "source": []
  }
 ],
 "metadata": {
  "kernelspec": {
   "display_name": "Python 3",
   "language": "python",
   "name": "python3"
  },
  "language_info": {
   "codemirror_mode": {
    "name": "ipython",
    "version": 3
   },
   "file_extension": ".py",
   "mimetype": "text/x-python",
   "name": "python",
   "nbconvert_exporter": "python",
   "pygments_lexer": "ipython3",
   "version": "3.8.8"
  }
 },
 "nbformat": 4,
 "nbformat_minor": 5
}
