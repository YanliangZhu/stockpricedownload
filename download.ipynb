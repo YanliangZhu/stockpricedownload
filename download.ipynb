{
 "cells": [
  {
   "cell_type": "code",
   "execution_count": null,
   "id": "691e55fb",
   "metadata": {},
   "outputs": [],
   "source": [
    "#polygon.io API Key\n",
    "import config\n",
    "api_key = config.api_key"
   ]
  },
  {
   "cell_type": "code",
   "execution_count": null,
   "id": "d712704d",
   "metadata": {},
   "outputs": [],
   "source": [
    "#lib\n",
    "import pandas as pd\n",
    "import matplotlib.pyplot as plt\n",
    "import requests as req\n",
    "import datetime\n",
    "import time\n",
    "from pandas_market_calendars import get_calendar"
   ]
  },
  {
   "cell_type": "code",
   "execution_count": null,
   "id": "61121213",
   "metadata": {},
   "outputs": [],
   "source": [
    "#ISSUE:\n",
    "#1 lengh limit - only 2 years data\n",
    "#2 call limit - only 5 calls / min\n",
    "#3 query limit - Max 50000 data points\n",
    "#4 2 Years Historical Data\n",
    "\n",
    "#symbol: stock symbol\n",
    "#date_A: from date\n",
    "#date_B: to date\n",
    "#timespan: minute, hour, day, week, month, quarter, year"
   ]
  },
  {
   "cell_type": "code",
   "execution_count": null,
   "id": "2d8bcab8",
   "metadata": {},
   "outputs": [],
   "source": [
    "def api_call(symbol, date_a, date_b, timespan, api_key):\n",
    "    multiplier = 1\n",
    "    adjusted = 'true'     #default\n",
    "    sort = 'asc'        #ascending order (oldest at top)\n",
    "    limit = 50000       #default 5000, must be <50000\n",
    "    #request url\n",
    "    url = f'https://api.polygon.io/v2/aggs/ticker/{symbol}/range/1/{timespan}/{date_a}/{date_b}?adjusted={adjusted}&sort={sort}&limit={limit}&apiKey={api_key}'\n",
    "    #requesting\n",
    "    data = req.get(url).json()\n",
    "    return data\n",
    "\n",
    "\n",
    "def json_to_df(data):\n",
    "    results = data['results']\n",
    "    df = pd.DataFrame(columns=['time', 'open', 'high', 'low', 'close', 'volume'])\n",
    "    for result in results:\n",
    "        df = df.append({\n",
    "            'time': pd.to_datetime(result['t'], unit='ms'),\n",
    "            'open': result['o'],\n",
    "            'high': result['h'],\n",
    "            'low': result['l'],\n",
    "            'close': result['c'],\n",
    "            'volume': result['v']\n",
    "        }, ignore_index=True)\n",
    "    return df"
   ]
  },
  {
   "cell_type": "code",
   "execution_count": null,
   "id": "7ce2fa02",
   "metadata": {},
   "outputs": [],
   "source": [
    "#Historical Data Limit check\n",
    "def historicalDataLimit(day_a, day_b, year = 2):\n",
    "    today = datetime.date.today()\n",
    "    years_ago = today - datetime.timedelta(days = 365 * year) #NOTE: leap years issue\n",
    "    day_a = datetime.datetime.strptime(day_a, '%Y-%m-%d').date()\n",
    "    if day_a < years_ago:\n",
    "        check = True\n",
    "    else:\n",
    "        check = False\n",
    "    return check"
   ]
  },
  {
   "cell_type": "code",
   "execution_count": null,
   "id": "85f73033",
   "metadata": {},
   "outputs": [],
   "source": [
    "def reqSplit(day_a, day_b):\n",
    "    day_a = datetime.datetime.strptime(day_a, \"%Y-%m-%d\")\n",
    "    day_b = datetime.datetime.strptime(day_b, \"%Y-%m-%d\")\n",
    "    days = (day_b - day_a).days\n",
    "    if days >= 35:\n",
    "        return True\n",
    "    else:\n",
    "        return False\n",
    "\n",
    "def splitTime(day_a, day_b):\n",
    "    months = pd.date_range(day_a, day_b, freq='M')\n",
    "    \n",
    "    arranged = []\n",
    "    i = 0\n",
    "    \n",
    "    while i <= len(months):\n",
    "        group = []\n",
    "        \n",
    "        if i == 0:\n",
    "            x = day_a\n",
    "        else:\n",
    "            x = (months[i - 1] + pd.DateOffset(days=1)).strftime('%Y-%m-%d')\n",
    "        \n",
    "        if i == len(months):\n",
    "            y = day_b\n",
    "        else:\n",
    "            y = months[i].strftime('%Y-%m-%d')\n",
    "        \n",
    "        group.append(x)\n",
    "        group.append(y)\n",
    "        arranged.append(group)\n",
    "        i += 1\n",
    "    return arranged"
   ]
  },
  {
   "cell_type": "code",
   "execution_count": null,
   "id": "b7735dd4",
   "metadata": {},
   "outputs": [],
   "source": []
  },
  {
   "cell_type": "code",
   "execution_count": null,
   "id": "94cad622",
   "metadata": {},
   "outputs": [],
   "source": [
    "def pricedownload(symbol, date_A, date_B, timespan, api_key, maxCall = 5):\n",
    "    if historicalDataLimit(date_A, date_B):\n",
    "        return print('requested date range before the API limit.')\n",
    "    elif reqSplit(date_A, date_B):\n",
    "        stopTime = 60 // maxCall\n",
    "        splitted = splitTime(date_A, date_B)\n",
    "        df = pd.DataFrame(columns=['time', 'open', 'high', 'low', 'close', 'volume'])\n",
    "        for i in range(len(splitted)):\n",
    "            now = datetime.datetime.now().strftime('%H:%M:%S')\n",
    "            print(f'[{now}] Downloading {symbol} stock price data from {splitted[i][0]} to {splitted[i][1]}.')\n",
    "            df0 = json_to_df(api_call(symbol, splitted[i][0], splitted[i][1], timespan, api_key))\n",
    "            df = df.append(df0, ignore_index=True)\n",
    "            print(f'API call completed. Waiting {stopTime} seconds for next call.')\n",
    "            time.sleep(stopTime)\n",
    "        return df\n",
    "    else:  \n",
    "        return json_to_df(api_call(symbol, date_A, date_B, timespan, api_key))"
   ]
  },
  {
   "cell_type": "code",
   "execution_count": null,
   "id": "63213ee9",
   "metadata": {},
   "outputs": [],
   "source": []
  }
 ],
 "metadata": {
  "kernelspec": {
   "display_name": "Python 3",
   "language": "python",
   "name": "python3"
  },
  "language_info": {
   "codemirror_mode": {
    "name": "ipython",
    "version": 3
   },
   "file_extension": ".py",
   "mimetype": "text/x-python",
   "name": "python",
   "nbconvert_exporter": "python",
   "pygments_lexer": "ipython3",
   "version": "3.8.8"
  }
 },
 "nbformat": 4,
 "nbformat_minor": 5
}
